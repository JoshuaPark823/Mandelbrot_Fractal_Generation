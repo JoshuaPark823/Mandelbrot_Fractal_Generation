{
 "cells": [
  {
   "cell_type": "code",
   "execution_count": 7,
   "metadata": {},
   "outputs": [],
   "source": [
    "import numpy as np\n",
    "import matplotlib.pyplot as plt\n",
    "import matplotlib.animation as animation\n",
    "import networkx as nx"
   ]
  },
  {
   "cell_type": "code",
   "execution_count": 8,
   "metadata": {},
   "outputs": [],
   "source": [
    "def mandelbrot(x, y, threshold):\n",
    "    \"\"\"Calculates whether the number c = x + i*y belongs to the \n",
    "    Mandelbrot set. In order to belong, the sequence z[i + 1] = z[i]**2 + c\n",
    "    must not diverge after 'threshold' number of steps. The sequence diverges\n",
    "    if the absolute value of z[i+1] is greater than 4.\n",
    "    \n",
    "    :param float x: the x component of the initial complex number\n",
    "    :param float y: the y component of the initial complex number\n",
    "    :param int threshold: the number of iterations to considered it converged\n",
    "    \"\"\"\n",
    "    # initial conditions\n",
    "    c = complex(x, y)\n",
    "    z = complex(0, 0)\n",
    "    \n",
    "    for i in range(threshold):\n",
    "        z = z**2 + c\n",
    "        if abs(z) > 4.:  # it diverged\n",
    "            return i\n",
    "        \n",
    "    return threshold - 1  # it didn't diverge\n"
   ]
  },
  {
   "cell_type": "code",
   "execution_count": 9,
   "metadata": {},
   "outputs": [
    {
     "name": "stderr",
     "output_type": "stream",
     "text": [
      "<ipython-input-9-b2f6331e01b6>:14: MatplotlibDeprecationWarning: Passing the minor parameter of set_xticks() positionally is deprecated since Matplotlib 3.2; the parameter will become keyword-only two minor releases later.\n",
      "  ax.set_xticks([], [])  # clear x-axis ticks\n",
      "<ipython-input-9-b2f6331e01b6>:15: MatplotlibDeprecationWarning: Passing the minor parameter of set_yticks() positionally is deprecated since Matplotlib 3.2; the parameter will become keyword-only two minor releases later.\n",
      "  ax.set_yticks([], [])  # clear y-axis ticks\n"
     ]
    },
    {
     "data": {
      "image/png": "[encoded data removed]",
      "text/plain": [
       "<Figure size 720x720 with 1 Axes>"
      ]
     },
     "metadata": {},
     "output_type": "display_data"
    }
   ],
   "source": [
    "x_start, y_start = -2, -1.5  # an interesting region starts here\n",
    "width, height = 3, 3  # for 3 units up and right\n",
    "density_per_unit = 250  # how many pixles per unit\n",
    "\n",
    "# real and imaginary axis\n",
    "re = np.linspace(x_start, x_start + width, width * density_per_unit )\n",
    "im = np.linspace(y_start, y_start + height, height * density_per_unit)\n",
    "\n",
    "fig = plt.figure(figsize=(10, 10))  # instantiate a figure to draw\n",
    "ax = plt.axes()  # create an axes object\n",
    "\n",
    "def animate(i):\n",
    "    ax.clear()  # clear axes object\n",
    "    ax.set_xticks([], [])  # clear x-axis ticks\n",
    "    ax.set_yticks([], [])  # clear y-axis ticks\n",
    "    \n",
    "    X = np.empty((len(re), len(im)))  # re-initialize the array-like image\n",
    "    threshold = round(1.15**(i + 1))  # calculate the current threshold\n",
    "    \n",
    "    # iterations for the current threshold\n",
    "    for i in range(len(re)):\n",
    "        for j in range(len(im)):\n",
    "            X[i, j] = mandelbrot(re[i], im[j], threshold)\n",
    "    \n",
    "    # associate colors to the iterations with an iterpolation\n",
    "    img = ax.imshow(X.T, interpolation=\"bicubic\", cmap='magma')\n",
    "    return [img]\n",
    " \n",
    "anim = animation.FuncAnimation(fig, animate, frames=45, interval=120, blit=True)\n",
    "# anim.save('mandelbrot.gif')\n",
    "\n",
    "plt.show()"
   ]
  }
 ],
 "metadata": {
  "interpreter": {
   "hash": "6857a2b955b1decf98bd8bdbd0b5f306e402737258ef52902809e2c28a07e72a"
  },
  "kernelspec": {
   "display_name": "Python 3.8.3 64-bit ('base': conda)",
   "name": "python3"
  },
  "language_info": {
   "codemirror_mode": {
    "name": "ipython",
    "version": 3
   },
   "file_extension": ".py",
   "mimetype": "text/x-python",
   "name": "python",
   "nbconvert_exporter": "python",
   "pygments_lexer": "ipython3",
   "version": "3.8.3"
  },
  "orig_nbformat": 4
 },
 "nbformat": 4,
 "nbformat_minor": 2
}
